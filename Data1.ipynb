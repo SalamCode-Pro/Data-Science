{
 "cells": [
  {
   "cell_type": "code",
   "execution_count": 3,
   "id": "034328f2",
   "metadata": {},
   "outputs": [
    {
     "data": {
      "text/plain": [
       "(5904, 16)"
      ]
     },
     "execution_count": 3,
     "metadata": {},
     "output_type": "execute_result"
    }
   ],
   "source": [
    "import pandas as pd\n",
    "data_frame = pd.read_csv(\"elon_musk_tweets.csv\")\n",
    "data_frame.shape\n"
   ]
  },
  {
   "cell_type": "code",
   "execution_count": 4,
   "id": "11b20c09",
   "metadata": {},
   "outputs": [
    {
     "data": {
      "text/html": [
       "<div>\n",
       "<style scoped>\n",
       "    .dataframe tbody tr th:only-of-type {\n",
       "        vertical-align: middle;\n",
       "    }\n",
       "\n",
       "    .dataframe tbody tr th {\n",
       "        vertical-align: top;\n",
       "    }\n",
       "\n",
       "    .dataframe thead th {\n",
       "        text-align: right;\n",
       "    }\n",
       "</style>\n",
       "<table border=\"1\" class=\"dataframe\">\n",
       "  <thead>\n",
       "    <tr style=\"text-align: right;\">\n",
       "      <th></th>\n",
       "      <th>id</th>\n",
       "      <th>user_followers</th>\n",
       "      <th>user_friends</th>\n",
       "      <th>user_favourites</th>\n",
       "      <th>retweets</th>\n",
       "      <th>favorites</th>\n",
       "    </tr>\n",
       "  </thead>\n",
       "  <tbody>\n",
       "    <tr>\n",
       "      <th>count</th>\n",
       "      <td>5.904000e+03</td>\n",
       "      <td>5.904000e+03</td>\n",
       "      <td>5904.000000</td>\n",
       "      <td>5904.000000</td>\n",
       "      <td>5904.000000</td>\n",
       "      <td>5.904000e+03</td>\n",
       "    </tr>\n",
       "    <tr>\n",
       "      <th>mean</th>\n",
       "      <td>1.618062e+18</td>\n",
       "      <td>1.265069e+08</td>\n",
       "      <td>192.918699</td>\n",
       "      <td>18717.950373</td>\n",
       "      <td>5504.126524</td>\n",
       "      <td>6.385289e+04</td>\n",
       "    </tr>\n",
       "    <tr>\n",
       "      <th>std</th>\n",
       "      <td>3.259834e+16</td>\n",
       "      <td>1.186204e+07</td>\n",
       "      <td>67.569833</td>\n",
       "      <td>3673.085377</td>\n",
       "      <td>14457.004070</td>\n",
       "      <td>1.326794e+05</td>\n",
       "    </tr>\n",
       "    <tr>\n",
       "      <th>min</th>\n",
       "      <td>1.544317e+18</td>\n",
       "      <td>1.012408e+08</td>\n",
       "      <td>115.000000</td>\n",
       "      <td>13503.000000</td>\n",
       "      <td>0.000000</td>\n",
       "      <td>5.200000e+01</td>\n",
       "    </tr>\n",
       "    <tr>\n",
       "      <th>25%</th>\n",
       "      <td>1.594339e+18</td>\n",
       "      <td>1.193263e+08</td>\n",
       "      <td>131.000000</td>\n",
       "      <td>15388.000000</td>\n",
       "      <td>350.750000</td>\n",
       "      <td>5.946500e+03</td>\n",
       "    </tr>\n",
       "    <tr>\n",
       "      <th>50%</th>\n",
       "      <td>1.619904e+18</td>\n",
       "      <td>1.283752e+08</td>\n",
       "      <td>178.000000</td>\n",
       "      <td>17883.000000</td>\n",
       "      <td>1092.000000</td>\n",
       "      <td>1.821300e+04</td>\n",
       "    </tr>\n",
       "    <tr>\n",
       "      <th>75%</th>\n",
       "      <td>1.646781e+18</td>\n",
       "      <td>1.362687e+08</td>\n",
       "      <td>240.000000</td>\n",
       "      <td>21798.000000</td>\n",
       "      <td>4213.250000</td>\n",
       "      <td>5.921225e+04</td>\n",
       "    </tr>\n",
       "    <tr>\n",
       "      <th>max</th>\n",
       "      <td>1.668435e+18</td>\n",
       "      <td>1.433260e+08</td>\n",
       "      <td>330.000000</td>\n",
       "      <td>25655.000000</td>\n",
       "      <td>359672.000000</td>\n",
       "      <td>2.500167e+06</td>\n",
       "    </tr>\n",
       "  </tbody>\n",
       "</table>\n",
       "</div>"
      ],
      "text/plain": [
       "                 id  user_followers  user_friends  user_favourites  \\\n",
       "count  5.904000e+03    5.904000e+03   5904.000000      5904.000000   \n",
       "mean   1.618062e+18    1.265069e+08    192.918699     18717.950373   \n",
       "std    3.259834e+16    1.186204e+07     67.569833      3673.085377   \n",
       "min    1.544317e+18    1.012408e+08    115.000000     13503.000000   \n",
       "25%    1.594339e+18    1.193263e+08    131.000000     15388.000000   \n",
       "50%    1.619904e+18    1.283752e+08    178.000000     17883.000000   \n",
       "75%    1.646781e+18    1.362687e+08    240.000000     21798.000000   \n",
       "max    1.668435e+18    1.433260e+08    330.000000     25655.000000   \n",
       "\n",
       "            retweets     favorites  \n",
       "count    5904.000000  5.904000e+03  \n",
       "mean     5504.126524  6.385289e+04  \n",
       "std     14457.004070  1.326794e+05  \n",
       "min         0.000000  5.200000e+01  \n",
       "25%       350.750000  5.946500e+03  \n",
       "50%      1092.000000  1.821300e+04  \n",
       "75%      4213.250000  5.921225e+04  \n",
       "max    359672.000000  2.500167e+06  "
      ]
     },
     "execution_count": 4,
     "metadata": {},
     "output_type": "execute_result"
    }
   ],
   "source": [
    "data_frame.describe()"
   ]
  },
  {
   "cell_type": "code",
   "execution_count": 6,
   "id": "c10a14fe",
   "metadata": {},
   "outputs": [
    {
     "data": {
      "text/plain": [
       "array([[1544379368478212100, 'Elon Musk', nan, ..., 335, 6542, False],\n",
       "       [1544377493263720450, 'Elon Musk', nan, ..., 1451, 30753, False],\n",
       "       [1544377130590552064, 'Elon Musk', nan, ..., 1284, 28610, False],\n",
       "       ...,\n",
       "       [1665137204782419968, 'Elon Musk', nan, ..., 46, 879, False],\n",
       "       [1665131126900285445, 'Elon Musk', nan, ..., 898, 12467, False],\n",
       "       [1665121551652474880, 'Elon Musk', nan, ..., 1997, 38113, False]],\n",
       "      dtype=object)"
      ]
     },
     "execution_count": 6,
     "metadata": {},
     "output_type": "execute_result"
    }
   ],
   "source": [
    "data_frame.values"
   ]
  },
  {
   "cell_type": "code",
   "execution_count": 8,
   "id": "475e2a0a",
   "metadata": {},
   "outputs": [
    {
     "ename": "SyntaxError",
     "evalue": "invalid syntax (3827820173.py, line 1)",
     "output_type": "error",
     "traceback": [
      "\u001b[1;36m  Cell \u001b[1;32mIn[8], line 1\u001b[1;36m\u001b[0m\n\u001b[1;33m    git add .\u001b[0m\n\u001b[1;37m        ^\u001b[0m\n\u001b[1;31mSyntaxError\u001b[0m\u001b[1;31m:\u001b[0m invalid syntax\n"
     ]
    }
   ],
   "source": []
  },
  {
   "cell_type": "code",
   "execution_count": null,
   "id": "c53df62b",
   "metadata": {},
   "outputs": [],
   "source": []
  }
 ],
 "metadata": {
  "kernelspec": {
   "display_name": "Python 3 (ipykernel)",
   "language": "python",
   "name": "python3"
  },
  "language_info": {
   "codemirror_mode": {
    "name": "ipython",
    "version": 3
   },
   "file_extension": ".py",
   "mimetype": "text/x-python",
   "name": "python",
   "nbconvert_exporter": "python",
   "pygments_lexer": "ipython3",
   "version": "3.10.9"
  }
 },
 "nbformat": 4,
 "nbformat_minor": 5
}
